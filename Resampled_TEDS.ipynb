{
 "cells": [
  {
   "cell_type": "code",
   "execution_count": 143,
   "metadata": {},
   "outputs": [],
   "source": [
    "import pandas as pd\n",
    "import numpy as np\n",
    "from bioinfokit.analys import stat\n",
    "from scipy import stats as sci_stats"
   ]
  },
  {
   "cell_type": "code",
   "execution_count": 2,
   "metadata": {},
   "outputs": [],
   "source": [
    "TEDS_Cleaned = pd.read_csv('TEDS_cleaned_data_categorical_field_values.csv')"
   ]
  },
  {
   "cell_type": "code",
   "execution_count": 4,
   "metadata": {},
   "outputs": [
    {
     "data": {
      "text/plain": [
       "White                                         3336719\n",
       "African American                               881563\n",
       "Other single race                              392134\n",
       "Missing                                        138662\n",
       "American Indian                                117754\n",
       "Two or more races                              111653\n",
       "Asian                                           32637\n",
       "Native Haiwaiian or Other Pacific Islander      26239\n",
       "Alaskan Native                                  11445\n",
       "Asian or Pacific Islander                        1270\n",
       "Name: RACE, dtype: int64"
      ]
     },
     "execution_count": 4,
     "metadata": {},
     "output_type": "execute_result"
    }
   ],
   "source": [
    "TEDS_Cleaned['RACE'].value_counts()"
   ]
  },
  {
   "cell_type": "code",
   "execution_count": 5,
   "metadata": {},
   "outputs": [],
   "source": [
    "STAND_Data = pd.read_excel('2021_08_25_Stand_data.xlsx')"
   ]
  },
  {
   "cell_type": "code",
   "execution_count": 7,
   "metadata": {},
   "outputs": [
    {
     "data": {
      "text/plain": [
       "Black or African American           170\n",
       "White                                16\n",
       "Bi-racial                             4\n",
       "Other                                 2\n",
       "Latin American/Hispanic               1\n",
       "American Indian or Alaska Native      1\n",
       "Name: Race, dtype: int64"
      ]
     },
     "execution_count": 7,
     "metadata": {},
     "output_type": "execute_result"
    }
   ],
   "source": [
    "STAND_Data['Race'].value_counts()"
   ]
  },
  {
   "cell_type": "markdown",
   "metadata": {},
   "source": [
    "### Sample from each Race"
   ]
  },
  {
   "cell_type": "code",
   "execution_count": 19,
   "metadata": {},
   "outputs": [],
   "source": [
    "random_african_american = TEDS_Cleaned[TEDS_Cleaned['RACE'] == 'African American'].sample(n=438000)"
   ]
  },
  {
   "cell_type": "code",
   "execution_count": 20,
   "metadata": {},
   "outputs": [],
   "source": [
    "random_white = TEDS_Cleaned[TEDS_Cleaned['RACE'] == 'White'].sample(n=41000)"
   ]
  },
  {
   "cell_type": "code",
   "execution_count": 21,
   "metadata": {},
   "outputs": [],
   "source": [
    "random_biracial = TEDS_Cleaned[TEDS_Cleaned['RACE'] == 'Two or more races'].sample(n=10500)"
   ]
  },
  {
   "cell_type": "code",
   "execution_count": 22,
   "metadata": {},
   "outputs": [],
   "source": [
    "random_other = TEDS_Cleaned[TEDS_Cleaned['RACE'] == 'Other single race'].sample(n=5000)"
   ]
  },
  {
   "cell_type": "code",
   "execution_count": 23,
   "metadata": {},
   "outputs": [],
   "source": [
    "random_indian = TEDS_Cleaned[TEDS_Cleaned['RACE'] == 'American Indian'].sample(n=5500)"
   ]
  },
  {
   "cell_type": "code",
   "execution_count": 29,
   "metadata": {},
   "outputs": [],
   "source": [
    "frames = [random_african_american, random_white, random_biracial, random_other, random_indian]"
   ]
  },
  {
   "cell_type": "code",
   "execution_count": 30,
   "metadata": {},
   "outputs": [],
   "source": [
    "sampled_demographic = pd.concat(frames)"
   ]
  },
  {
   "cell_type": "code",
   "execution_count": 31,
   "metadata": {},
   "outputs": [
    {
     "data": {
      "text/html": [
       "<div>\n",
       "<style scoped>\n",
       "    .dataframe tbody tr th:only-of-type {\n",
       "        vertical-align: middle;\n",
       "    }\n",
       "\n",
       "    .dataframe tbody tr th {\n",
       "        vertical-align: top;\n",
       "    }\n",
       "\n",
       "    .dataframe thead th {\n",
       "        text-align: right;\n",
       "    }\n",
       "</style>\n",
       "<table border=\"1\" class=\"dataframe\">\n",
       "  <thead>\n",
       "    <tr style=\"text-align: right;\">\n",
       "      <th></th>\n",
       "      <th>EDUC</th>\n",
       "      <th>MARSTAT</th>\n",
       "      <th>SERVICES</th>\n",
       "      <th>DETCRIM</th>\n",
       "      <th>LOS</th>\n",
       "      <th>PSOURCE</th>\n",
       "      <th>NOPRIOR</th>\n",
       "      <th>ARRESTS</th>\n",
       "      <th>EMPLOY</th>\n",
       "      <th>METHUSE</th>\n",
       "      <th>...</th>\n",
       "      <th>STIMFLG</th>\n",
       "      <th>BENZFLG</th>\n",
       "      <th>TRNQFLG</th>\n",
       "      <th>BARBFLG</th>\n",
       "      <th>SEDHPFLG</th>\n",
       "      <th>INHFLG</th>\n",
       "      <th>OTCFLG</th>\n",
       "      <th>OTHERFLG</th>\n",
       "      <th>IDU</th>\n",
       "      <th>ALCDRUG</th>\n",
       "    </tr>\n",
       "  </thead>\n",
       "  <tbody>\n",
       "    <tr>\n",
       "      <th>2172155</th>\n",
       "      <td>12</td>\n",
       "      <td>Never married</td>\n",
       "      <td>Detox, 24 hour, free-standing residential</td>\n",
       "      <td>Missing</td>\n",
       "      <td>NaN</td>\n",
       "      <td>Individual (includes self-referral)</td>\n",
       "      <td>No prior treatment episodes</td>\n",
       "      <td>None</td>\n",
       "      <td>Not in labor force</td>\n",
       "      <td>No</td>\n",
       "      <td>...</td>\n",
       "      <td>0</td>\n",
       "      <td>0</td>\n",
       "      <td>0</td>\n",
       "      <td>0</td>\n",
       "      <td>0</td>\n",
       "      <td>0</td>\n",
       "      <td>0</td>\n",
       "      <td>0</td>\n",
       "      <td>No substance reported</td>\n",
       "      <td>Alcohol only</td>\n",
       "    </tr>\n",
       "    <tr>\n",
       "      <th>2612607</th>\n",
       "      <td>14</td>\n",
       "      <td>Separated</td>\n",
       "      <td>Ambulatory, non-intensive outpatient</td>\n",
       "      <td>Missing</td>\n",
       "      <td>NaN</td>\n",
       "      <td>Individual (includes self-referral)</td>\n",
       "      <td>No prior treatment episodes</td>\n",
       "      <td>None</td>\n",
       "      <td>Part-time</td>\n",
       "      <td>No</td>\n",
       "      <td>...</td>\n",
       "      <td>0</td>\n",
       "      <td>0</td>\n",
       "      <td>0</td>\n",
       "      <td>0</td>\n",
       "      <td>0</td>\n",
       "      <td>0</td>\n",
       "      <td>0</td>\n",
       "      <td>0</td>\n",
       "      <td>No substance reported</td>\n",
       "      <td>Other drugs only</td>\n",
       "    </tr>\n",
       "    <tr>\n",
       "      <th>1838568</th>\n",
       "      <td>12</td>\n",
       "      <td>Missing</td>\n",
       "      <td>Detox, 24 hour, free-standing residential</td>\n",
       "      <td>Missing</td>\n",
       "      <td>NaN</td>\n",
       "      <td>Other community referral</td>\n",
       "      <td>NaN</td>\n",
       "      <td>None</td>\n",
       "      <td>Not in labor force</td>\n",
       "      <td>No</td>\n",
       "      <td>...</td>\n",
       "      <td>0</td>\n",
       "      <td>0</td>\n",
       "      <td>0</td>\n",
       "      <td>0</td>\n",
       "      <td>0</td>\n",
       "      <td>0</td>\n",
       "      <td>0</td>\n",
       "      <td>0</td>\n",
       "      <td>No substance reported</td>\n",
       "      <td>Other drugs only</td>\n",
       "    </tr>\n",
       "    <tr>\n",
       "      <th>1599759</th>\n",
       "      <td>10</td>\n",
       "      <td>Never married</td>\n",
       "      <td>Detox, 24 hour, free-standing residential</td>\n",
       "      <td>Missing</td>\n",
       "      <td>NaN</td>\n",
       "      <td>Other community referral</td>\n",
       "      <td>NaN</td>\n",
       "      <td>None</td>\n",
       "      <td>Unemployed</td>\n",
       "      <td>No</td>\n",
       "      <td>...</td>\n",
       "      <td>0</td>\n",
       "      <td>0</td>\n",
       "      <td>0</td>\n",
       "      <td>0</td>\n",
       "      <td>0</td>\n",
       "      <td>0</td>\n",
       "      <td>0</td>\n",
       "      <td>0</td>\n",
       "      <td>IDU not reported</td>\n",
       "      <td>Other drugs only</td>\n",
       "    </tr>\n",
       "    <tr>\n",
       "      <th>2305696</th>\n",
       "      <td>8</td>\n",
       "      <td>Never married</td>\n",
       "      <td>Ambulatory, non-intensive outpatient</td>\n",
       "      <td>Missing</td>\n",
       "      <td>400.0</td>\n",
       "      <td>Other health care provider</td>\n",
       "      <td>NaN</td>\n",
       "      <td>None</td>\n",
       "      <td>Unemployed</td>\n",
       "      <td>No</td>\n",
       "      <td>...</td>\n",
       "      <td>0</td>\n",
       "      <td>0</td>\n",
       "      <td>0</td>\n",
       "      <td>0</td>\n",
       "      <td>0</td>\n",
       "      <td>0</td>\n",
       "      <td>0</td>\n",
       "      <td>0</td>\n",
       "      <td>No substance reported</td>\n",
       "      <td>Alcohol and other drugs</td>\n",
       "    </tr>\n",
       "    <tr>\n",
       "      <th>...</th>\n",
       "      <td>...</td>\n",
       "      <td>...</td>\n",
       "      <td>...</td>\n",
       "      <td>...</td>\n",
       "      <td>...</td>\n",
       "      <td>...</td>\n",
       "      <td>...</td>\n",
       "      <td>...</td>\n",
       "      <td>...</td>\n",
       "      <td>...</td>\n",
       "      <td>...</td>\n",
       "      <td>...</td>\n",
       "      <td>...</td>\n",
       "      <td>...</td>\n",
       "      <td>...</td>\n",
       "      <td>...</td>\n",
       "      <td>...</td>\n",
       "      <td>...</td>\n",
       "      <td>...</td>\n",
       "      <td>...</td>\n",
       "      <td>...</td>\n",
       "    </tr>\n",
       "    <tr>\n",
       "      <th>4849354</th>\n",
       "      <td>10</td>\n",
       "      <td>Never married</td>\n",
       "      <td>Rehab/residential, long term (more than 30 days)</td>\n",
       "      <td>Missing</td>\n",
       "      <td>75.0</td>\n",
       "      <td>Individual (includes self-referral)</td>\n",
       "      <td>NaN</td>\n",
       "      <td>Once</td>\n",
       "      <td>Unemployed</td>\n",
       "      <td>No</td>\n",
       "      <td>...</td>\n",
       "      <td>0</td>\n",
       "      <td>0</td>\n",
       "      <td>0</td>\n",
       "      <td>0</td>\n",
       "      <td>0</td>\n",
       "      <td>0</td>\n",
       "      <td>0</td>\n",
       "      <td>0</td>\n",
       "      <td>NaN</td>\n",
       "      <td>Alcohol and other drugs</td>\n",
       "    </tr>\n",
       "    <tr>\n",
       "      <th>3385880</th>\n",
       "      <td>10</td>\n",
       "      <td>Never married</td>\n",
       "      <td>Ambulatory, non-intensive outpatient</td>\n",
       "      <td>Missing</td>\n",
       "      <td>75.0</td>\n",
       "      <td>Individual (includes self-referral)</td>\n",
       "      <td>No prior treatment episodes</td>\n",
       "      <td>None</td>\n",
       "      <td>Missing</td>\n",
       "      <td>No</td>\n",
       "      <td>...</td>\n",
       "      <td>0</td>\n",
       "      <td>0</td>\n",
       "      <td>0</td>\n",
       "      <td>0</td>\n",
       "      <td>0</td>\n",
       "      <td>0</td>\n",
       "      <td>0</td>\n",
       "      <td>0</td>\n",
       "      <td>NaN</td>\n",
       "      <td>Alcohol and other drugs</td>\n",
       "    </tr>\n",
       "    <tr>\n",
       "      <th>3207419</th>\n",
       "      <td>16</td>\n",
       "      <td>Never married</td>\n",
       "      <td>Ambulatory, non-intensive outpatient</td>\n",
       "      <td>Probation/parole</td>\n",
       "      <td>270.0</td>\n",
       "      <td>Court/criminal justice referral/DUI/DWI</td>\n",
       "      <td>NaN</td>\n",
       "      <td>None</td>\n",
       "      <td>Full-time</td>\n",
       "      <td>No</td>\n",
       "      <td>...</td>\n",
       "      <td>0</td>\n",
       "      <td>0</td>\n",
       "      <td>0</td>\n",
       "      <td>0</td>\n",
       "      <td>0</td>\n",
       "      <td>0</td>\n",
       "      <td>0</td>\n",
       "      <td>0</td>\n",
       "      <td>No substance reported</td>\n",
       "      <td>Other drugs only</td>\n",
       "    </tr>\n",
       "    <tr>\n",
       "      <th>2096472</th>\n",
       "      <td>10</td>\n",
       "      <td>Never married</td>\n",
       "      <td>Ambulatory, non-intensive outpatient</td>\n",
       "      <td>Missing</td>\n",
       "      <td>53.0</td>\n",
       "      <td>School (educational)</td>\n",
       "      <td>Missing</td>\n",
       "      <td>None</td>\n",
       "      <td>Not in labor force</td>\n",
       "      <td>No</td>\n",
       "      <td>...</td>\n",
       "      <td>0</td>\n",
       "      <td>0</td>\n",
       "      <td>0</td>\n",
       "      <td>0</td>\n",
       "      <td>0</td>\n",
       "      <td>0</td>\n",
       "      <td>0</td>\n",
       "      <td>0</td>\n",
       "      <td>No substance reported</td>\n",
       "      <td>None</td>\n",
       "    </tr>\n",
       "    <tr>\n",
       "      <th>837028</th>\n",
       "      <td>10</td>\n",
       "      <td>Never married</td>\n",
       "      <td>Rehab/residential, long term (more than 30 days)</td>\n",
       "      <td>Missing</td>\n",
       "      <td>53.0</td>\n",
       "      <td>Alcohol/drug use care provider</td>\n",
       "      <td>No prior treatment episodes</td>\n",
       "      <td>None</td>\n",
       "      <td>Not in labor force</td>\n",
       "      <td>No</td>\n",
       "      <td>...</td>\n",
       "      <td>0</td>\n",
       "      <td>0</td>\n",
       "      <td>0</td>\n",
       "      <td>0</td>\n",
       "      <td>0</td>\n",
       "      <td>0</td>\n",
       "      <td>0</td>\n",
       "      <td>0</td>\n",
       "      <td>IDU not reported</td>\n",
       "      <td>Other drugs only</td>\n",
       "    </tr>\n",
       "  </tbody>\n",
       "</table>\n",
       "<p>500000 rows × 52 columns</p>\n",
       "</div>"
      ],
      "text/plain": [
       "         EDUC        MARSTAT  \\\n",
       "2172155    12  Never married   \n",
       "2612607    14      Separated   \n",
       "1838568    12        Missing   \n",
       "1599759    10  Never married   \n",
       "2305696     8  Never married   \n",
       "...       ...            ...   \n",
       "4849354    10  Never married   \n",
       "3385880    10  Never married   \n",
       "3207419    16  Never married   \n",
       "2096472    10  Never married   \n",
       "837028     10  Never married   \n",
       "\n",
       "                                                 SERVICES           DETCRIM  \\\n",
       "2172155         Detox, 24 hour, free-standing residential           Missing   \n",
       "2612607              Ambulatory, non-intensive outpatient           Missing   \n",
       "1838568         Detox, 24 hour, free-standing residential           Missing   \n",
       "1599759         Detox, 24 hour, free-standing residential           Missing   \n",
       "2305696              Ambulatory, non-intensive outpatient           Missing   \n",
       "...                                                   ...               ...   \n",
       "4849354  Rehab/residential, long term (more than 30 days)           Missing   \n",
       "3385880              Ambulatory, non-intensive outpatient           Missing   \n",
       "3207419              Ambulatory, non-intensive outpatient  Probation/parole   \n",
       "2096472              Ambulatory, non-intensive outpatient           Missing   \n",
       "837028   Rehab/residential, long term (more than 30 days)           Missing   \n",
       "\n",
       "           LOS                                  PSOURCE  \\\n",
       "2172155    NaN      Individual (includes self-referral)   \n",
       "2612607    NaN      Individual (includes self-referral)   \n",
       "1838568    NaN                 Other community referral   \n",
       "1599759    NaN                 Other community referral   \n",
       "2305696  400.0               Other health care provider   \n",
       "...        ...                                      ...   \n",
       "4849354   75.0      Individual (includes self-referral)   \n",
       "3385880   75.0      Individual (includes self-referral)   \n",
       "3207419  270.0  Court/criminal justice referral/DUI/DWI   \n",
       "2096472   53.0                     School (educational)   \n",
       "837028    53.0           Alcohol/drug use care provider   \n",
       "\n",
       "                             NOPRIOR ARRESTS              EMPLOY METHUSE  ...  \\\n",
       "2172155  No prior treatment episodes    None  Not in labor force      No  ...   \n",
       "2612607  No prior treatment episodes    None           Part-time      No  ...   \n",
       "1838568                          NaN    None  Not in labor force      No  ...   \n",
       "1599759                          NaN    None          Unemployed      No  ...   \n",
       "2305696                          NaN    None          Unemployed      No  ...   \n",
       "...                              ...     ...                 ...     ...  ...   \n",
       "4849354                          NaN    Once          Unemployed      No  ...   \n",
       "3385880  No prior treatment episodes    None             Missing      No  ...   \n",
       "3207419                          NaN    None           Full-time      No  ...   \n",
       "2096472                      Missing    None  Not in labor force      No  ...   \n",
       "837028   No prior treatment episodes    None  Not in labor force      No  ...   \n",
       "\n",
       "        STIMFLG BENZFLG TRNQFLG  BARBFLG SEDHPFLG INHFLG OTCFLG OTHERFLG  \\\n",
       "2172155       0       0       0        0        0      0      0        0   \n",
       "2612607       0       0       0        0        0      0      0        0   \n",
       "1838568       0       0       0        0        0      0      0        0   \n",
       "1599759       0       0       0        0        0      0      0        0   \n",
       "2305696       0       0       0        0        0      0      0        0   \n",
       "...         ...     ...     ...      ...      ...    ...    ...      ...   \n",
       "4849354       0       0       0        0        0      0      0        0   \n",
       "3385880       0       0       0        0        0      0      0        0   \n",
       "3207419       0       0       0        0        0      0      0        0   \n",
       "2096472       0       0       0        0        0      0      0        0   \n",
       "837028        0       0       0        0        0      0      0        0   \n",
       "\n",
       "                           IDU                  ALCDRUG  \n",
       "2172155  No substance reported             Alcohol only  \n",
       "2612607  No substance reported         Other drugs only  \n",
       "1838568  No substance reported         Other drugs only  \n",
       "1599759       IDU not reported         Other drugs only  \n",
       "2305696  No substance reported  Alcohol and other drugs  \n",
       "...                        ...                      ...  \n",
       "4849354                    NaN  Alcohol and other drugs  \n",
       "3385880                    NaN  Alcohol and other drugs  \n",
       "3207419  No substance reported         Other drugs only  \n",
       "2096472  No substance reported                     None  \n",
       "837028        IDU not reported         Other drugs only  \n",
       "\n",
       "[500000 rows x 52 columns]"
      ]
     },
     "execution_count": 31,
     "metadata": {},
     "output_type": "execute_result"
    }
   ],
   "source": [
    "sampled_demographic"
   ]
  },
  {
   "cell_type": "markdown",
   "metadata": {},
   "source": [
    "### Race Chi Square"
   ]
  },
  {
   "cell_type": "code",
   "execution_count": 96,
   "metadata": {},
   "outputs": [],
   "source": [
    "test_df = sampled_demographic"
   ]
  },
  {
   "cell_type": "code",
   "execution_count": 97,
   "metadata": {},
   "outputs": [],
   "source": [
    "test2_df = pd.pivot_table(test_df[['RACE','REASON','EDUC']],values='EDUC',index=['RACE'],columns='REASON',aggfunc=np.sum).reset_index().rename_axis(None,axis=1)"
   ]
  },
  {
   "cell_type": "code",
   "execution_count": 98,
   "metadata": {},
   "outputs": [],
   "source": [
    "res = stat()\n",
    "res.chisq(df=test2_df.set_index('RACE'))"
   ]
  },
  {
   "cell_type": "code",
   "execution_count": 161,
   "metadata": {},
   "outputs": [],
   "source": [
    "test2_df = test2_df.set_index('RACE')"
   ]
  },
  {
   "cell_type": "code",
   "execution_count": 162,
   "metadata": {},
   "outputs": [
    {
     "data": {
      "text/html": [
       "<div>\n",
       "<style scoped>\n",
       "    .dataframe tbody tr th:only-of-type {\n",
       "        vertical-align: middle;\n",
       "    }\n",
       "\n",
       "    .dataframe tbody tr th {\n",
       "        vertical-align: top;\n",
       "    }\n",
       "\n",
       "    .dataframe thead th {\n",
       "        text-align: right;\n",
       "    }\n",
       "</style>\n",
       "<table border=\"1\" class=\"dataframe\">\n",
       "  <thead>\n",
       "    <tr style=\"text-align: right;\">\n",
       "      <th></th>\n",
       "      <th>0</th>\n",
       "      <th>1</th>\n",
       "    </tr>\n",
       "    <tr>\n",
       "      <th>RACE</th>\n",
       "      <th></th>\n",
       "      <th></th>\n",
       "    </tr>\n",
       "  </thead>\n",
       "  <tbody>\n",
       "    <tr>\n",
       "      <th>African American</th>\n",
       "      <td>3093154</td>\n",
       "      <td>1994092</td>\n",
       "    </tr>\n",
       "    <tr>\n",
       "      <th>American Indian</th>\n",
       "      <td>25082</td>\n",
       "      <td>37198</td>\n",
       "    </tr>\n",
       "    <tr>\n",
       "      <th>Other single race</th>\n",
       "      <td>32962</td>\n",
       "      <td>23346</td>\n",
       "    </tr>\n",
       "    <tr>\n",
       "      <th>Two or more races</th>\n",
       "      <td>78926</td>\n",
       "      <td>44062</td>\n",
       "    </tr>\n",
       "    <tr>\n",
       "      <th>White</th>\n",
       "      <td>291518</td>\n",
       "      <td>201764</td>\n",
       "    </tr>\n",
       "  </tbody>\n",
       "</table>\n",
       "</div>"
      ],
      "text/plain": [
       "                         0        1\n",
       "RACE                               \n",
       "African American   3093154  1994092\n",
       "American Indian      25082    37198\n",
       "Other single race    32962    23346\n",
       "Two or more races    78926    44062\n",
       "White               291518   201764"
      ]
     },
     "execution_count": 162,
     "metadata": {},
     "output_type": "execute_result"
    }
   ],
   "source": [
    "test2_df"
   ]
  },
  {
   "cell_type": "code",
   "execution_count": 100,
   "metadata": {},
   "outputs": [
    {
     "name": "stdout",
     "output_type": "stream",
     "text": [
      "\n",
      "Chi-squared test for independence\n",
      "\n",
      "Test              Df    Chi-square    P-value\n",
      "--------------  ----  ------------  ---------\n",
      "Pearson            4       12046.3          0\n",
      "Log-likelihood     4       11738.1          0\n",
      "\n"
     ]
    }
   ],
   "source": [
    "print(res.summary)"
   ]
  },
  {
   "cell_type": "code",
   "execution_count": 163,
   "metadata": {},
   "outputs": [
    {
     "data": {
      "text/plain": [
       "<matplotlib.axes._subplots.AxesSubplot at 0x244857ffc10>"
      ]
     },
     "execution_count": 163,
     "metadata": {},
     "output_type": "execute_result"
    },
    {
     "data": {
      "image/png": "[encoded data removed]",
      "text/plain": [
       "<Figure size 432x288 with 1 Axes>"
      ]
     },
     "metadata": {
      "needs_background": "light"
     },
     "output_type": "display_data"
    }
   ],
   "source": [
    "cols = [0,1]\n",
    "test2_df[cols] = test2_df[cols].div(test2_df[cols].sum(axis=1), axis=0).multiply(100)\n",
    "\n",
    "test2_df.plot(kind='bar',stacked=True)"
   ]
  },
  {
   "cell_type": "markdown",
   "metadata": {},
   "source": [
    "### Marital Status"
   ]
  },
  {
   "cell_type": "code",
   "execution_count": 199,
   "metadata": {},
   "outputs": [
    {
     "data": {
      "text/plain": [
       "Never married        294141\n",
       "Missing               95412\n",
       "Divorced, widowed     44262\n",
       "Now married           42547\n",
       "Separated             23638\n",
       "Name: MARSTAT, dtype: int64"
      ]
     },
     "execution_count": 199,
     "metadata": {},
     "output_type": "execute_result"
    }
   ],
   "source": [
    "sampled_demographic['MARSTAT'].value_counts()"
   ]
  },
  {
   "cell_type": "code",
   "execution_count": 200,
   "metadata": {},
   "outputs": [],
   "source": [
    "sampled_demographic['MARSTAT'] = sampled_demographic.apply(lambda x: 'Never married' if x['MARSTAT'] == 'Missing' else x['MARSTAT'],axis=1)"
   ]
  },
  {
   "cell_type": "code",
   "execution_count": 201,
   "metadata": {},
   "outputs": [
    {
     "data": {
      "text/plain": [
       "Never married        389553\n",
       "Divorced, widowed     44262\n",
       "Now married           42547\n",
       "Separated             23638\n",
       "Name: MARSTAT, dtype: int64"
      ]
     },
     "execution_count": 201,
     "metadata": {},
     "output_type": "execute_result"
    }
   ],
   "source": [
    "sampled_demographic['MARSTAT'].value_counts()"
   ]
  },
  {
   "cell_type": "code",
   "execution_count": 202,
   "metadata": {},
   "outputs": [],
   "source": [
    "marriage_df = pd.pivot_table(test_df[['MARSTAT','REASON','EDUC']],values='EDUC',index=['MARSTAT'],columns='REASON',aggfunc=np.sum).reset_index().rename_axis(None,axis=1)"
   ]
  },
  {
   "cell_type": "code",
   "execution_count": 203,
   "metadata": {},
   "outputs": [
    {
     "data": {
      "text/html": [
       "<div>\n",
       "<style scoped>\n",
       "    .dataframe tbody tr th:only-of-type {\n",
       "        vertical-align: middle;\n",
       "    }\n",
       "\n",
       "    .dataframe tbody tr th {\n",
       "        vertical-align: top;\n",
       "    }\n",
       "\n",
       "    .dataframe thead th {\n",
       "        text-align: right;\n",
       "    }\n",
       "</style>\n",
       "<table border=\"1\" class=\"dataframe\">\n",
       "  <thead>\n",
       "    <tr style=\"text-align: right;\">\n",
       "      <th></th>\n",
       "      <th>MARSTAT</th>\n",
       "      <th>0</th>\n",
       "      <th>1</th>\n",
       "    </tr>\n",
       "  </thead>\n",
       "  <tbody>\n",
       "    <tr>\n",
       "      <th>0</th>\n",
       "      <td>Divorced, widowed</td>\n",
       "      <td>332580</td>\n",
       "      <td>202038</td>\n",
       "    </tr>\n",
       "    <tr>\n",
       "      <th>1</th>\n",
       "      <td>Never married</td>\n",
       "      <td>2697000</td>\n",
       "      <td>1803514</td>\n",
       "    </tr>\n",
       "    <tr>\n",
       "      <th>2</th>\n",
       "      <td>Now married</td>\n",
       "      <td>311888</td>\n",
       "      <td>195738</td>\n",
       "    </tr>\n",
       "    <tr>\n",
       "      <th>3</th>\n",
       "      <td>Separated</td>\n",
       "      <td>180174</td>\n",
       "      <td>99172</td>\n",
       "    </tr>\n",
       "  </tbody>\n",
       "</table>\n",
       "</div>"
      ],
      "text/plain": [
       "             MARSTAT        0        1\n",
       "0  Divorced, widowed   332580   202038\n",
       "1      Never married  2697000  1803514\n",
       "2        Now married   311888   195738\n",
       "3          Separated   180174    99172"
      ]
     },
     "execution_count": 203,
     "metadata": {},
     "output_type": "execute_result"
    }
   ],
   "source": [
    "marriage_df"
   ]
  },
  {
   "cell_type": "code",
   "execution_count": 204,
   "metadata": {},
   "outputs": [],
   "source": [
    "marriage_df = marriage_df[marriage_df['MARSTAT'] != 'Missing']"
   ]
  },
  {
   "cell_type": "code",
   "execution_count": 205,
   "metadata": {},
   "outputs": [],
   "source": [
    "marriage_df = marriage_df.set_index('MARSTAT')"
   ]
  },
  {
   "cell_type": "code",
   "execution_count": 206,
   "metadata": {},
   "outputs": [
    {
     "data": {
      "text/html": [
       "<div>\n",
       "<style scoped>\n",
       "    .dataframe tbody tr th:only-of-type {\n",
       "        vertical-align: middle;\n",
       "    }\n",
       "\n",
       "    .dataframe tbody tr th {\n",
       "        vertical-align: top;\n",
       "    }\n",
       "\n",
       "    .dataframe thead th {\n",
       "        text-align: right;\n",
       "    }\n",
       "</style>\n",
       "<table border=\"1\" class=\"dataframe\">\n",
       "  <thead>\n",
       "    <tr style=\"text-align: right;\">\n",
       "      <th></th>\n",
       "      <th>0</th>\n",
       "      <th>1</th>\n",
       "    </tr>\n",
       "    <tr>\n",
       "      <th>MARSTAT</th>\n",
       "      <th></th>\n",
       "      <th></th>\n",
       "    </tr>\n",
       "  </thead>\n",
       "  <tbody>\n",
       "    <tr>\n",
       "      <th>Divorced, widowed</th>\n",
       "      <td>332580</td>\n",
       "      <td>202038</td>\n",
       "    </tr>\n",
       "    <tr>\n",
       "      <th>Never married</th>\n",
       "      <td>2697000</td>\n",
       "      <td>1803514</td>\n",
       "    </tr>\n",
       "    <tr>\n",
       "      <th>Now married</th>\n",
       "      <td>311888</td>\n",
       "      <td>195738</td>\n",
       "    </tr>\n",
       "    <tr>\n",
       "      <th>Separated</th>\n",
       "      <td>180174</td>\n",
       "      <td>99172</td>\n",
       "    </tr>\n",
       "  </tbody>\n",
       "</table>\n",
       "</div>"
      ],
      "text/plain": [
       "                         0        1\n",
       "MARSTAT                            \n",
       "Divorced, widowed   332580   202038\n",
       "Never married      2697000  1803514\n",
       "Now married         311888   195738\n",
       "Separated           180174    99172"
      ]
     },
     "execution_count": 206,
     "metadata": {},
     "output_type": "execute_result"
    }
   ],
   "source": [
    "marriage_df"
   ]
  },
  {
   "cell_type": "code",
   "execution_count": 207,
   "metadata": {},
   "outputs": [
    {
     "data": {
      "text/plain": [
       "Power_divergenceResult(statistic=array([5013189.48056503, 3509902.26920853]), pvalue=array([0., 0.]))"
      ]
     },
     "execution_count": 207,
     "metadata": {},
     "output_type": "execute_result"
    }
   ],
   "source": [
    "sci_stats.chisquare(marriage_df)"
   ]
  },
  {
   "cell_type": "code",
   "execution_count": 208,
   "metadata": {},
   "outputs": [
    {
     "name": "stdout",
     "output_type": "stream",
     "text": [
      "\n",
      "Chi-squared test for independence\n",
      "\n",
      "Test              Df    Chi-square    P-value\n",
      "--------------  ----  ------------  ---------\n",
      "Pearson            3       3328.8           0\n",
      "Log-likelihood     3       3356.57          0\n",
      "\n"
     ]
    }
   ],
   "source": [
    "res = stat()\n",
    "res.chisq(df=marriage_df)\n",
    "print(res.summary)"
   ]
  },
  {
   "cell_type": "code",
   "execution_count": 209,
   "metadata": {},
   "outputs": [
    {
     "data": {
      "text/plain": [
       "<matplotlib.axes._subplots.AxesSubplot at 0x244859bc880>"
      ]
     },
     "execution_count": 209,
     "metadata": {},
     "output_type": "execute_result"
    },
    {
     "data": {
      "image/png": "[encoded data removed]",
      "text/plain": [
       "<Figure size 432x288 with 1 Axes>"
      ]
     },
     "metadata": {
      "needs_background": "light"
     },
     "output_type": "display_data"
    }
   ],
   "source": [
    "cols = [0,1]\n",
    "marriage_df[cols] = marriage_df[cols].div(marriage_df[cols].sum(axis=1), axis=0).multiply(100)\n",
    "\n",
    "marriage_df.plot(kind='bar',stacked=True)"
   ]
  },
  {
   "cell_type": "markdown",
   "metadata": {},
   "source": [
    "### Substance Use"
   ]
  },
  {
   "cell_type": "code",
   "execution_count": 116,
   "metadata": {},
   "outputs": [
    {
     "data": {
      "text/plain": [
       "Alcohol                         165439\n",
       "Marijuana/hashish               100773\n",
       "Heroin                           91178\n",
       "Cocaine/crack                    63511\n",
       "Methamphetamines/speed           23057\n",
       "Other opiates and synthetics     19309\n",
       "Missing                          11440\n",
       "None                             10780\n",
       "PCP                               4320\n",
       "Other drugs                       3536\n",
       "Benzodiazepines                   2574\n",
       "Other amphetamines                1670\n",
       "Hallucinogens                      838\n",
       "Non-prescription methadone         467\n",
       "Other stimulants                   403\n",
       "Other sedatives or hypnotics       336\n",
       "Inhalants                          145\n",
       "Over-the-counter medications       119\n",
       "Barbiturates                        77\n",
       "Other tranquilizers                 28\n",
       "Name: SUB1, dtype: int64"
      ]
     },
     "execution_count": 116,
     "metadata": {},
     "output_type": "execute_result"
    }
   ],
   "source": [
    "sampled_demographic['SUB1'].value_counts()"
   ]
  },
  {
   "cell_type": "code",
   "execution_count": 210,
   "metadata": {},
   "outputs": [],
   "source": [
    "sampled_demographic['SUB1'] = sampled_demographic.apply(lambda x: 'Alcohol' if x['SUB1'] == 'Missing' else x['SUB1'],axis=1)"
   ]
  },
  {
   "cell_type": "code",
   "execution_count": 211,
   "metadata": {},
   "outputs": [
    {
     "data": {
      "text/plain": [
       "Alcohol                         176879\n",
       "Marijuana/hashish               100773\n",
       "Heroin                           91178\n",
       "Cocaine/crack                    63511\n",
       "Methamphetamines/speed           23057\n",
       "Other opiates and synthetics     19309\n",
       "None                             10780\n",
       "PCP                               4320\n",
       "Other drugs                       3536\n",
       "Benzodiazepines                   2574\n",
       "Other amphetamines                1670\n",
       "Hallucinogens                      838\n",
       "Non-prescription methadone         467\n",
       "Other stimulants                   403\n",
       "Other sedatives or hypnotics       336\n",
       "Inhalants                          145\n",
       "Over-the-counter medications       119\n",
       "Barbiturates                        77\n",
       "Other tranquilizers                 28\n",
       "Name: SUB1, dtype: int64"
      ]
     },
     "execution_count": 211,
     "metadata": {},
     "output_type": "execute_result"
    }
   ],
   "source": [
    "sampled_demographic['SUB1'].value_counts()"
   ]
  },
  {
   "cell_type": "code",
   "execution_count": 212,
   "metadata": {},
   "outputs": [],
   "source": [
    "substance_df = pd.pivot_table(test_df[['SUB1','REASON','EDUC']],values='EDUC',index=['SUB1'],columns='REASON',aggfunc=np.sum).reset_index().rename_axis(None,axis=1)"
   ]
  },
  {
   "cell_type": "code",
   "execution_count": 213,
   "metadata": {},
   "outputs": [],
   "source": [
    "substance_df = substance_df[substance_df['SUB1'] != 'Missing']"
   ]
  },
  {
   "cell_type": "code",
   "execution_count": 214,
   "metadata": {},
   "outputs": [],
   "source": [
    "substance_df = substance_df.set_index('SUB1')"
   ]
  },
  {
   "cell_type": "code",
   "execution_count": 215,
   "metadata": {},
   "outputs": [
    {
     "data": {
      "text/html": [
       "<div>\n",
       "<style scoped>\n",
       "    .dataframe tbody tr th:only-of-type {\n",
       "        vertical-align: middle;\n",
       "    }\n",
       "\n",
       "    .dataframe tbody tr th {\n",
       "        vertical-align: top;\n",
       "    }\n",
       "\n",
       "    .dataframe thead th {\n",
       "        text-align: right;\n",
       "    }\n",
       "</style>\n",
       "<table border=\"1\" class=\"dataframe\">\n",
       "  <thead>\n",
       "    <tr style=\"text-align: right;\">\n",
       "      <th></th>\n",
       "      <th>0</th>\n",
       "      <th>1</th>\n",
       "    </tr>\n",
       "    <tr>\n",
       "      <th>SUB1</th>\n",
       "      <th></th>\n",
       "      <th></th>\n",
       "    </tr>\n",
       "  </thead>\n",
       "  <tbody>\n",
       "    <tr>\n",
       "      <th>Alcohol</th>\n",
       "      <td>1039840</td>\n",
       "      <td>1041472</td>\n",
       "    </tr>\n",
       "    <tr>\n",
       "      <th>Barbiturates</th>\n",
       "      <td>446</td>\n",
       "      <td>450</td>\n",
       "    </tr>\n",
       "    <tr>\n",
       "      <th>Benzodiazepines</th>\n",
       "      <td>17532</td>\n",
       "      <td>13048</td>\n",
       "    </tr>\n",
       "    <tr>\n",
       "      <th>Cocaine/crack</th>\n",
       "      <td>480550</td>\n",
       "      <td>260162</td>\n",
       "    </tr>\n",
       "    <tr>\n",
       "      <th>Hallucinogens</th>\n",
       "      <td>5800</td>\n",
       "      <td>3722</td>\n",
       "    </tr>\n",
       "    <tr>\n",
       "      <th>Heroin</th>\n",
       "      <td>738004</td>\n",
       "      <td>326734</td>\n",
       "    </tr>\n",
       "    <tr>\n",
       "      <th>Inhalants</th>\n",
       "      <td>1254</td>\n",
       "      <td>518</td>\n",
       "    </tr>\n",
       "    <tr>\n",
       "      <th>Marijuana/hashish</th>\n",
       "      <td>745332</td>\n",
       "      <td>397444</td>\n",
       "    </tr>\n",
       "    <tr>\n",
       "      <th>Methamphetamines/speed</th>\n",
       "      <td>172270</td>\n",
       "      <td>99164</td>\n",
       "    </tr>\n",
       "    <tr>\n",
       "      <th>Non-prescription methadone</th>\n",
       "      <td>4262</td>\n",
       "      <td>1308</td>\n",
       "    </tr>\n",
       "    <tr>\n",
       "      <th>None</th>\n",
       "      <td>67134</td>\n",
       "      <td>54268</td>\n",
       "    </tr>\n",
       "    <tr>\n",
       "      <th>Other amphetamines</th>\n",
       "      <td>12800</td>\n",
       "      <td>6764</td>\n",
       "    </tr>\n",
       "    <tr>\n",
       "      <th>Other drugs</th>\n",
       "      <td>31418</td>\n",
       "      <td>9912</td>\n",
       "    </tr>\n",
       "    <tr>\n",
       "      <th>Other opiates and synthetics</th>\n",
       "      <td>166472</td>\n",
       "      <td>64292</td>\n",
       "    </tr>\n",
       "    <tr>\n",
       "      <th>Other sedatives or hypnotics</th>\n",
       "      <td>2646</td>\n",
       "      <td>1344</td>\n",
       "    </tr>\n",
       "    <tr>\n",
       "      <th>Other stimulants</th>\n",
       "      <td>3408</td>\n",
       "      <td>1288</td>\n",
       "    </tr>\n",
       "    <tr>\n",
       "      <th>Other tranquilizers</th>\n",
       "      <td>252</td>\n",
       "      <td>96</td>\n",
       "    </tr>\n",
       "    <tr>\n",
       "      <th>Over-the-counter medications</th>\n",
       "      <td>906</td>\n",
       "      <td>434</td>\n",
       "    </tr>\n",
       "    <tr>\n",
       "      <th>PCP</th>\n",
       "      <td>31316</td>\n",
       "      <td>18042</td>\n",
       "    </tr>\n",
       "  </tbody>\n",
       "</table>\n",
       "</div>"
      ],
      "text/plain": [
       "                                    0        1\n",
       "SUB1                                          \n",
       "Alcohol                       1039840  1041472\n",
       "Barbiturates                      446      450\n",
       "Benzodiazepines                 17532    13048\n",
       "Cocaine/crack                  480550   260162\n",
       "Hallucinogens                    5800     3722\n",
       "Heroin                         738004   326734\n",
       "Inhalants                        1254      518\n",
       "Marijuana/hashish              745332   397444\n",
       "Methamphetamines/speed         172270    99164\n",
       "Non-prescription methadone       4262     1308\n",
       "None                            67134    54268\n",
       "Other amphetamines              12800     6764\n",
       "Other drugs                     31418     9912\n",
       "Other opiates and synthetics   166472    64292\n",
       "Other sedatives or hypnotics     2646     1344\n",
       "Other stimulants                 3408     1288\n",
       "Other tranquilizers               252       96\n",
       "Over-the-counter medications      906      434\n",
       "PCP                             31316    18042"
      ]
     },
     "execution_count": 215,
     "metadata": {},
     "output_type": "execute_result"
    }
   ],
   "source": [
    "substance_df"
   ]
  },
  {
   "cell_type": "code",
   "execution_count": 216,
   "metadata": {},
   "outputs": [
    {
     "name": "stdout",
     "output_type": "stream",
     "text": [
      "\n",
      "Chi-squared test for independence\n",
      "\n",
      "Test              Df    Chi-square    P-value\n",
      "--------------  ----  ------------  ---------\n",
      "Pearson           18        169161          0\n",
      "Log-likelihood    18        169366          0\n",
      "\n"
     ]
    }
   ],
   "source": [
    "res = stat()\n",
    "res.chisq(df=substance_df)\n",
    "print(res.summary)"
   ]
  },
  {
   "cell_type": "code",
   "execution_count": 217,
   "metadata": {},
   "outputs": [
    {
     "data": {
      "text/plain": [
       "<matplotlib.axes._subplots.AxesSubplot at 0x244a3a26ac0>"
      ]
     },
     "execution_count": 217,
     "metadata": {},
     "output_type": "execute_result"
    },
    {
     "data": {
      "image/png": "[encoded data removed]",
      "text/plain": [
       "<Figure size 432x288 with 1 Axes>"
      ]
     },
     "metadata": {
      "needs_background": "light"
     },
     "output_type": "display_data"
    }
   ],
   "source": [
    "cols = [0,1]\n",
    "substance_df[cols] = substance_df[cols].div(substance_df[cols].sum(axis=1), axis=0).multiply(100)\n",
    "\n",
    "substance_df.plot(kind='bar',stacked=True)"
   ]
  },
  {
   "cell_type": "markdown",
   "metadata": {},
   "source": [
    "### Frequency"
   ]
  },
  {
   "cell_type": "code",
   "execution_count": 125,
   "metadata": {},
   "outputs": [
    {
     "data": {
      "text/plain": [
       "Daily use               209478\n",
       "Some use                134204\n",
       "No use in past month    102129\n",
       "Missing                  54189\n",
       "Name: FREQ1, dtype: int64"
      ]
     },
     "execution_count": 125,
     "metadata": {},
     "output_type": "execute_result"
    }
   ],
   "source": [
    "sampled_demographic['FREQ1'].value_counts()"
   ]
  },
  {
   "cell_type": "code",
   "execution_count": 218,
   "metadata": {},
   "outputs": [],
   "source": [
    "sampled_demographic['FREQ1'] = sampled_demographic.apply(lambda x: 'Daily use' if x['FREQ1'] == 'Missing' else x['FREQ1'],axis=1)"
   ]
  },
  {
   "cell_type": "code",
   "execution_count": 219,
   "metadata": {},
   "outputs": [
    {
     "data": {
      "text/plain": [
       "Daily use               263667\n",
       "Some use                134204\n",
       "No use in past month    102129\n",
       "Name: FREQ1, dtype: int64"
      ]
     },
     "execution_count": 219,
     "metadata": {},
     "output_type": "execute_result"
    }
   ],
   "source": [
    "sampled_demographic['FREQ1'].value_counts()"
   ]
  },
  {
   "cell_type": "code",
   "execution_count": 220,
   "metadata": {},
   "outputs": [],
   "source": [
    "frequency_df = pd.pivot_table(test_df[['FREQ1','REASON','EDUC']],values='EDUC',index=['FREQ1'],columns='REASON',aggfunc=np.sum).reset_index().rename_axis(None,axis=1)"
   ]
  },
  {
   "cell_type": "code",
   "execution_count": 221,
   "metadata": {},
   "outputs": [],
   "source": [
    "frequency_df = frequency_df[frequency_df['FREQ1'] != 'Missing']"
   ]
  },
  {
   "cell_type": "code",
   "execution_count": 222,
   "metadata": {},
   "outputs": [],
   "source": [
    "frequency_df = frequency_df.set_index('FREQ1')"
   ]
  },
  {
   "cell_type": "code",
   "execution_count": 223,
   "metadata": {},
   "outputs": [
    {
     "data": {
      "text/html": [
       "<div>\n",
       "<style scoped>\n",
       "    .dataframe tbody tr th:only-of-type {\n",
       "        vertical-align: middle;\n",
       "    }\n",
       "\n",
       "    .dataframe tbody tr th {\n",
       "        vertical-align: top;\n",
       "    }\n",
       "\n",
       "    .dataframe thead th {\n",
       "        text-align: right;\n",
       "    }\n",
       "</style>\n",
       "<table border=\"1\" class=\"dataframe\">\n",
       "  <thead>\n",
       "    <tr style=\"text-align: right;\">\n",
       "      <th></th>\n",
       "      <th>0</th>\n",
       "      <th>1</th>\n",
       "    </tr>\n",
       "    <tr>\n",
       "      <th>FREQ1</th>\n",
       "      <th></th>\n",
       "      <th></th>\n",
       "    </tr>\n",
       "  </thead>\n",
       "  <tbody>\n",
       "    <tr>\n",
       "      <th>Daily use</th>\n",
       "      <td>1805572</td>\n",
       "      <td>1251206</td>\n",
       "    </tr>\n",
       "    <tr>\n",
       "      <th>No use in past month</th>\n",
       "      <td>705112</td>\n",
       "      <td>488202</td>\n",
       "    </tr>\n",
       "    <tr>\n",
       "      <th>Some use</th>\n",
       "      <td>1010958</td>\n",
       "      <td>561054</td>\n",
       "    </tr>\n",
       "  </tbody>\n",
       "</table>\n",
       "</div>"
      ],
      "text/plain": [
       "                            0        1\n",
       "FREQ1                                 \n",
       "Daily use             1805572  1251206\n",
       "No use in past month   705112   488202\n",
       "Some use              1010958   561054"
      ]
     },
     "execution_count": 223,
     "metadata": {},
     "output_type": "execute_result"
    }
   ],
   "source": [
    "frequency_df"
   ]
  },
  {
   "cell_type": "code",
   "execution_count": 224,
   "metadata": {},
   "outputs": [
    {
     "name": "stdout",
     "output_type": "stream",
     "text": [
      "\n",
      "Chi-squared test for independence\n",
      "\n",
      "Test              Df    Chi-square    P-value\n",
      "--------------  ----  ------------  ---------\n",
      "Pearson            2       13164.6          0\n",
      "Log-likelihood     2       13270            0\n",
      "\n"
     ]
    }
   ],
   "source": [
    "res = stat()\n",
    "res.chisq(df=frequency_df)\n",
    "print(res.summary)"
   ]
  },
  {
   "cell_type": "code",
   "execution_count": 225,
   "metadata": {},
   "outputs": [
    {
     "data": {
      "text/plain": [
       "<matplotlib.axes._subplots.AxesSubplot at 0x24485a9ea90>"
      ]
     },
     "execution_count": 225,
     "metadata": {},
     "output_type": "execute_result"
    },
    {
     "data": {
      "image/png": "[encoded data removed]",
      "text/plain": [
       "<Figure size 432x288 with 1 Axes>"
      ]
     },
     "metadata": {
      "needs_background": "light"
     },
     "output_type": "display_data"
    }
   ],
   "source": [
    "cols = [0,1]\n",
    "frequency_df[cols] = frequency_df[cols].div(frequency_df[cols].sum(axis=1), axis=0).multiply(100)\n",
    "\n",
    "frequency_df.plot(kind='bar',stacked=True)"
   ]
  },
  {
   "cell_type": "markdown",
   "metadata": {},
   "source": [
    "### Gender"
   ]
  },
  {
   "cell_type": "code",
   "execution_count": 226,
   "metadata": {},
   "outputs": [
    {
     "data": {
      "text/plain": [
       "Male      351828\n",
       "Female    148172\n",
       "Name: GENDER, dtype: int64"
      ]
     },
     "execution_count": 226,
     "metadata": {},
     "output_type": "execute_result"
    }
   ],
   "source": [
    "sampled_demographic['GENDER'].value_counts()"
   ]
  },
  {
   "cell_type": "code",
   "execution_count": 227,
   "metadata": {},
   "outputs": [],
   "source": [
    "gender_df = pd.pivot_table(test_df[['GENDER','REASON','EDUC']],values='EDUC',index=['GENDER'],columns='REASON',aggfunc=np.sum).reset_index().rename_axis(None,axis=1)"
   ]
  },
  {
   "cell_type": "code",
   "execution_count": 228,
   "metadata": {},
   "outputs": [],
   "source": [
    "gender_df = gender_df.set_index('GENDER')"
   ]
  },
  {
   "cell_type": "code",
   "execution_count": 229,
   "metadata": {},
   "outputs": [
    {
     "data": {
      "text/html": [
       "<div>\n",
       "<style scoped>\n",
       "    .dataframe tbody tr th:only-of-type {\n",
       "        vertical-align: middle;\n",
       "    }\n",
       "\n",
       "    .dataframe tbody tr th {\n",
       "        vertical-align: top;\n",
       "    }\n",
       "\n",
       "    .dataframe thead th {\n",
       "        text-align: right;\n",
       "    }\n",
       "</style>\n",
       "<table border=\"1\" class=\"dataframe\">\n",
       "  <thead>\n",
       "    <tr style=\"text-align: right;\">\n",
       "      <th></th>\n",
       "      <th>0</th>\n",
       "      <th>1</th>\n",
       "    </tr>\n",
       "    <tr>\n",
       "      <th>GENDER</th>\n",
       "      <th></th>\n",
       "      <th></th>\n",
       "    </tr>\n",
       "  </thead>\n",
       "  <tbody>\n",
       "    <tr>\n",
       "      <th>Female</th>\n",
       "      <td>1117168</td>\n",
       "      <td>615008</td>\n",
       "    </tr>\n",
       "    <tr>\n",
       "      <th>Male</th>\n",
       "      <td>2404474</td>\n",
       "      <td>1685454</td>\n",
       "    </tr>\n",
       "  </tbody>\n",
       "</table>\n",
       "</div>"
      ],
      "text/plain": [
       "              0        1\n",
       "GENDER                  \n",
       "Female  1117168   615008\n",
       "Male    2404474  1685454"
      ]
     },
     "execution_count": 229,
     "metadata": {},
     "output_type": "execute_result"
    }
   ],
   "source": [
    "gender_df"
   ]
  },
  {
   "cell_type": "code",
   "execution_count": 230,
   "metadata": {},
   "outputs": [
    {
     "name": "stdout",
     "output_type": "stream",
     "text": [
      "\n",
      "Chi-squared test for independence\n",
      "\n",
      "Test              Df    Chi-square    P-value\n",
      "--------------  ----  ------------  ---------\n",
      "Pearson            1       16570            0\n",
      "Log-likelihood     1       16699.2          0\n",
      "\n"
     ]
    }
   ],
   "source": [
    "res = stat()\n",
    "res.chisq(df=gender_df)\n",
    "print(res.summary)"
   ]
  },
  {
   "cell_type": "code",
   "execution_count": 231,
   "metadata": {},
   "outputs": [],
   "source": [
    "test_gender = gender_df"
   ]
  },
  {
   "cell_type": "code",
   "execution_count": 232,
   "metadata": {},
   "outputs": [],
   "source": [
    "cols = [0,1]\n",
    "test_gender[cols] = test_gender[cols].div(test_gender[cols].sum(axis=1), axis=0).multiply(100)"
   ]
  },
  {
   "cell_type": "code",
   "execution_count": 233,
   "metadata": {},
   "outputs": [
    {
     "data": {
      "text/plain": [
       "<matplotlib.axes._subplots.AxesSubplot at 0x244a3b712b0>"
      ]
     },
     "execution_count": 233,
     "metadata": {},
     "output_type": "execute_result"
    },
    {
     "data": {
      "image/png": "[encoded data removed]",
      "text/plain": [
       "<Figure size 432x288 with 1 Axes>"
      ]
     },
     "metadata": {
      "needs_background": "light"
     },
     "output_type": "display_data"
    }
   ],
   "source": [
    "test_gender.plot(kind='bar',stacked=True)"
   ]
  },
  {
   "cell_type": "markdown",
   "metadata": {},
   "source": [
    "### Services"
   ]
  },
  {
   "cell_type": "code",
   "execution_count": 234,
   "metadata": {},
   "outputs": [
    {
     "data": {
      "text/plain": [
       "Ambulatory, non-intensive outpatient                242347\n",
       "Ambulatory, intensive outpatient                     71720\n",
       "Detox, 24 hour, free-standing residential            70376\n",
       "Rehab/residential, short term (30 days or fewer)     58274\n",
       "Rehab/residential, long term (more than 30 days)     37834\n",
       "Detox, 24 hour, hospital inpatient                   16116\n",
       "Ambulatory, detoxification                            2432\n",
       "Rehab/residential, hospital (non-detox)                901\n",
       "Name: SERVICES, dtype: int64"
      ]
     },
     "execution_count": 234,
     "metadata": {},
     "output_type": "execute_result"
    }
   ],
   "source": [
    "sampled_demographic['SERVICES'].value_counts()"
   ]
  },
  {
   "cell_type": "code",
   "execution_count": 235,
   "metadata": {},
   "outputs": [],
   "source": [
    "services_df = pd.pivot_table(test_df[['SERVICES','REASON','EDUC']],values='EDUC',index=['SERVICES'],columns='REASON',aggfunc=np.sum).reset_index().rename_axis(None,axis=1)"
   ]
  },
  {
   "cell_type": "code",
   "execution_count": 236,
   "metadata": {},
   "outputs": [],
   "source": [
    "services_df = services_df.set_index('SERVICES')"
   ]
  },
  {
   "cell_type": "code",
   "execution_count": 237,
   "metadata": {},
   "outputs": [
    {
     "data": {
      "text/html": [
       "<div>\n",
       "<style scoped>\n",
       "    .dataframe tbody tr th:only-of-type {\n",
       "        vertical-align: middle;\n",
       "    }\n",
       "\n",
       "    .dataframe tbody tr th {\n",
       "        vertical-align: top;\n",
       "    }\n",
       "\n",
       "    .dataframe thead th {\n",
       "        text-align: right;\n",
       "    }\n",
       "</style>\n",
       "<table border=\"1\" class=\"dataframe\">\n",
       "  <thead>\n",
       "    <tr style=\"text-align: right;\">\n",
       "      <th></th>\n",
       "      <th>0</th>\n",
       "      <th>1</th>\n",
       "    </tr>\n",
       "    <tr>\n",
       "      <th>SERVICES</th>\n",
       "      <th></th>\n",
       "      <th></th>\n",
       "    </tr>\n",
       "  </thead>\n",
       "  <tbody>\n",
       "    <tr>\n",
       "      <th>Ambulatory, detoxification</th>\n",
       "      <td>13336</td>\n",
       "      <td>15630</td>\n",
       "    </tr>\n",
       "    <tr>\n",
       "      <th>Ambulatory, intensive outpatient</th>\n",
       "      <td>636986</td>\n",
       "      <td>201958</td>\n",
       "    </tr>\n",
       "    <tr>\n",
       "      <th>Ambulatory, non-intensive outpatient</th>\n",
       "      <td>1917686</td>\n",
       "      <td>892780</td>\n",
       "    </tr>\n",
       "    <tr>\n",
       "      <th>Detox, 24 hour, free-standing residential</th>\n",
       "      <td>313602</td>\n",
       "      <td>508756</td>\n",
       "    </tr>\n",
       "    <tr>\n",
       "      <th>Detox, 24 hour, hospital inpatient</th>\n",
       "      <td>52022</td>\n",
       "      <td>136980</td>\n",
       "    </tr>\n",
       "    <tr>\n",
       "      <th>Rehab/residential, hospital (non-detox)</th>\n",
       "      <td>3034</td>\n",
       "      <td>7088</td>\n",
       "    </tr>\n",
       "    <tr>\n",
       "      <th>Rehab/residential, long term (more than 30 days)</th>\n",
       "      <td>263478</td>\n",
       "      <td>176352</td>\n",
       "    </tr>\n",
       "    <tr>\n",
       "      <th>Rehab/residential, short term (30 days or fewer)</th>\n",
       "      <td>321498</td>\n",
       "      <td>360918</td>\n",
       "    </tr>\n",
       "  </tbody>\n",
       "</table>\n",
       "</div>"
      ],
      "text/plain": [
       "                                                        0       1\n",
       "SERVICES                                                         \n",
       "Ambulatory, detoxification                          13336   15630\n",
       "Ambulatory, intensive outpatient                   636986  201958\n",
       "Ambulatory, non-intensive outpatient              1917686  892780\n",
       "Detox, 24 hour, free-standing residential          313602  508756\n",
       "Detox, 24 hour, hospital inpatient                  52022  136980\n",
       "Rehab/residential, hospital (non-detox)              3034    7088\n",
       "Rehab/residential, long term (more than 30 days)   263478  176352\n",
       "Rehab/residential, short term (30 days or fewer)   321498  360918"
      ]
     },
     "execution_count": 237,
     "metadata": {},
     "output_type": "execute_result"
    }
   ],
   "source": [
    "services_df"
   ]
  },
  {
   "cell_type": "code",
   "execution_count": 238,
   "metadata": {},
   "outputs": [
    {
     "name": "stdout",
     "output_type": "stream",
     "text": [
      "\n",
      "Chi-squared test for independence\n",
      "\n",
      "Test              Df    Chi-square    P-value\n",
      "--------------  ----  ------------  ---------\n",
      "Pearson            7        469704          0\n",
      "Log-likelihood     7        469282          0\n",
      "\n"
     ]
    }
   ],
   "source": [
    "res = stat()\n",
    "res.chisq(df=services_df)\n",
    "print(res.summary)"
   ]
  },
  {
   "cell_type": "code",
   "execution_count": 239,
   "metadata": {
    "scrolled": false
   },
   "outputs": [
    {
     "data": {
      "text/plain": [
       "<matplotlib.axes._subplots.AxesSubplot at 0x24485b22af0>"
      ]
     },
     "execution_count": 239,
     "metadata": {},
     "output_type": "execute_result"
    },
    {
     "data": {
      "image/png": "[encoded data removed]",
      "text/plain": [
       "<Figure size 432x288 with 1 Axes>"
      ]
     },
     "metadata": {
      "needs_background": "light"
     },
     "output_type": "display_data"
    }
   ],
   "source": [
    "cols = [0,1]\n",
    "services_df[cols] = services_df[cols].div(services_df[cols].sum(axis=1), axis=0).multiply(100)\n",
    "\n",
    "services_df.plot(kind='bar',stacked=True)"
   ]
  },
  {
   "cell_type": "markdown",
   "metadata": {},
   "source": [
    "### Arrests"
   ]
  },
  {
   "cell_type": "code",
   "execution_count": 240,
   "metadata": {},
   "outputs": [
    {
     "data": {
      "text/plain": [
       "None                 415713\n",
       "Missing               55197\n",
       "Once                  24182\n",
       "Two or more times      4908\n",
       "Name: ARRESTS, dtype: int64"
      ]
     },
     "execution_count": 240,
     "metadata": {},
     "output_type": "execute_result"
    }
   ],
   "source": [
    "sampled_demographic['ARRESTS'].value_counts()"
   ]
  },
  {
   "cell_type": "code",
   "execution_count": 241,
   "metadata": {},
   "outputs": [],
   "source": [
    "sampled_demographic['ARRESTS'] = sampled_demographic.apply(lambda x: 'None' if x['ARRESTS'] == 'Missing' else x['ARRESTS'],axis=1)"
   ]
  },
  {
   "cell_type": "code",
   "execution_count": 242,
   "metadata": {},
   "outputs": [
    {
     "data": {
      "text/plain": [
       "None                 470910\n",
       "Once                  24182\n",
       "Two or more times      4908\n",
       "Name: ARRESTS, dtype: int64"
      ]
     },
     "execution_count": 242,
     "metadata": {},
     "output_type": "execute_result"
    }
   ],
   "source": [
    "sampled_demographic['ARRESTS'].value_counts()"
   ]
  },
  {
   "cell_type": "code",
   "execution_count": 243,
   "metadata": {},
   "outputs": [],
   "source": [
    "arrests_df = pd.pivot_table(test_df[['ARRESTS','REASON','EDUC']],values='EDUC',index=['ARRESTS'],columns='REASON',aggfunc=np.sum).reset_index().rename_axis(None,axis=1)"
   ]
  },
  {
   "cell_type": "code",
   "execution_count": 244,
   "metadata": {},
   "outputs": [],
   "source": [
    "arrests_df = arrests_df[arrests_df['ARRESTS'] != 'Missing']"
   ]
  },
  {
   "cell_type": "code",
   "execution_count": 245,
   "metadata": {},
   "outputs": [],
   "source": [
    "arrests_df = arrests_df.set_index('ARRESTS')"
   ]
  },
  {
   "cell_type": "code",
   "execution_count": 246,
   "metadata": {},
   "outputs": [
    {
     "data": {
      "text/html": [
       "<div>\n",
       "<style scoped>\n",
       "    .dataframe tbody tr th:only-of-type {\n",
       "        vertical-align: middle;\n",
       "    }\n",
       "\n",
       "    .dataframe tbody tr th {\n",
       "        vertical-align: top;\n",
       "    }\n",
       "\n",
       "    .dataframe thead th {\n",
       "        text-align: right;\n",
       "    }\n",
       "</style>\n",
       "<table border=\"1\" class=\"dataframe\">\n",
       "  <thead>\n",
       "    <tr style=\"text-align: right;\">\n",
       "      <th></th>\n",
       "      <th>0</th>\n",
       "      <th>1</th>\n",
       "    </tr>\n",
       "    <tr>\n",
       "      <th>ARRESTS</th>\n",
       "      <th></th>\n",
       "      <th></th>\n",
       "    </tr>\n",
       "  </thead>\n",
       "  <tbody>\n",
       "    <tr>\n",
       "      <th>None</th>\n",
       "      <td>3316378</td>\n",
       "      <td>2171618</td>\n",
       "    </tr>\n",
       "    <tr>\n",
       "      <th>Once</th>\n",
       "      <td>172188</td>\n",
       "      <td>106096</td>\n",
       "    </tr>\n",
       "    <tr>\n",
       "      <th>Two or more times</th>\n",
       "      <td>33076</td>\n",
       "      <td>22748</td>\n",
       "    </tr>\n",
       "  </tbody>\n",
       "</table>\n",
       "</div>"
      ],
      "text/plain": [
       "                         0        1\n",
       "ARRESTS                            \n",
       "None               3316378  2171618\n",
       "Once                172188   106096\n",
       "Two or more times    33076    22748"
      ]
     },
     "execution_count": 246,
     "metadata": {},
     "output_type": "execute_result"
    }
   ],
   "source": [
    "arrests_df"
   ]
  },
  {
   "cell_type": "code",
   "execution_count": 247,
   "metadata": {},
   "outputs": [
    {
     "name": "stdout",
     "output_type": "stream",
     "text": [
      "\n",
      "Chi-squared test for independence\n",
      "\n",
      "Test              Df    Chi-square      P-value\n",
      "--------------  ----  ------------  -----------\n",
      "Pearson            2       267.551  7.98191e-59\n",
      "Log-likelihood     2       268.37   5.29781e-59\n",
      "\n"
     ]
    }
   ],
   "source": [
    "res = stat()\n",
    "res.chisq(df=arrests_df)\n",
    "print(res.summary)"
   ]
  },
  {
   "cell_type": "code",
   "execution_count": 248,
   "metadata": {},
   "outputs": [
    {
     "data": {
      "text/plain": [
       "<matplotlib.axes._subplots.AxesSubplot at 0x24485b97a60>"
      ]
     },
     "execution_count": 248,
     "metadata": {},
     "output_type": "execute_result"
    },
    {
     "data": {
      "image/png": "[encoded data removed]",
      "text/plain": [
       "<Figure size 432x288 with 1 Axes>"
      ]
     },
     "metadata": {
      "needs_background": "light"
     },
     "output_type": "display_data"
    }
   ],
   "source": [
    "cols = [0,1]\n",
    "arrests_df[cols] = arrests_df[cols].div(arrests_df[cols].sum(axis=1), axis=0).multiply(100)\n",
    "\n",
    "arrests_df.plot(kind='bar',stacked=True)"
   ]
  },
  {
   "cell_type": "markdown",
   "metadata": {},
   "source": [
    "### Psychiatric Problems"
   ]
  },
  {
   "cell_type": "code",
   "execution_count": 190,
   "metadata": {},
   "outputs": [
    {
     "data": {
      "text/plain": [
       "No         256118\n",
       "Yes        170920\n",
       "Missing     72962\n",
       "Name: PSYPROB, dtype: int64"
      ]
     },
     "execution_count": 190,
     "metadata": {},
     "output_type": "execute_result"
    }
   ],
   "source": [
    "sampled_demographic['PSYPROB'].value_counts()"
   ]
  },
  {
   "cell_type": "code",
   "execution_count": 249,
   "metadata": {},
   "outputs": [],
   "source": [
    "sampled_demographic['PSYPROB'] = sampled_demographic.apply(lambda x: 'No' if x['PSYPROB'] == 'Missing' else x['PSYPROB'],axis=1)"
   ]
  },
  {
   "cell_type": "code",
   "execution_count": 250,
   "metadata": {},
   "outputs": [
    {
     "data": {
      "text/plain": [
       "No     329080\n",
       "Yes    170920\n",
       "Name: PSYPROB, dtype: int64"
      ]
     },
     "execution_count": 250,
     "metadata": {},
     "output_type": "execute_result"
    }
   ],
   "source": [
    "sampled_demographic['PSYPROB'].value_counts()"
   ]
  },
  {
   "cell_type": "code",
   "execution_count": 251,
   "metadata": {},
   "outputs": [],
   "source": [
    "psych_df = pd.pivot_table(test_df[['PSYPROB','REASON','EDUC']],values='EDUC',index=['PSYPROB'],columns='REASON',aggfunc=np.sum).reset_index().rename_axis(None,axis=1)"
   ]
  },
  {
   "cell_type": "code",
   "execution_count": 252,
   "metadata": {},
   "outputs": [],
   "source": [
    "psych_df = psych_df[psych_df['PSYPROB'] != 'Missing']"
   ]
  },
  {
   "cell_type": "code",
   "execution_count": 253,
   "metadata": {},
   "outputs": [],
   "source": [
    "psych_df = psych_df.set_index('PSYPROB')"
   ]
  },
  {
   "cell_type": "code",
   "execution_count": 254,
   "metadata": {},
   "outputs": [
    {
     "name": "stdout",
     "output_type": "stream",
     "text": [
      "\n",
      "Chi-squared test for independence\n",
      "\n",
      "Test              Df    Chi-square    P-value\n",
      "--------------  ----  ------------  ---------\n",
      "Pearson            1       88697.6          0\n",
      "Log-likelihood     1       90156.7          0\n",
      "\n"
     ]
    }
   ],
   "source": [
    "res = stat()\n",
    "res.chisq(df=psych_df)\n",
    "print(res.summary)"
   ]
  },
  {
   "cell_type": "code",
   "execution_count": 255,
   "metadata": {},
   "outputs": [
    {
     "data": {
      "text/plain": [
       "<matplotlib.axes._subplots.AxesSubplot at 0x244aed53160>"
      ]
     },
     "execution_count": 255,
     "metadata": {},
     "output_type": "execute_result"
    },
    {
     "data": {
      "image/png": "[encoded data removed]",
      "text/plain": [
       "<Figure size 432x288 with 1 Axes>"
      ]
     },
     "metadata": {
      "needs_background": "light"
     },
     "output_type": "display_data"
    }
   ],
   "source": [
    "cols = [0,1]\n",
    "psych_df[cols] = psych_df[cols].div(psych_df[cols].sum(axis=1), axis=0).multiply(100)\n",
    "\n",
    "psych_df.plot(kind='bar',stacked=True)"
   ]
  },
  {
   "cell_type": "code",
   "execution_count": 256,
   "metadata": {},
   "outputs": [],
   "source": [
    "sampled_demographic.to_csv('sampled_teds_data.csv')"
   ]
  },
  {
   "cell_type": "code",
   "execution_count": null,
   "metadata": {},
   "outputs": [],
   "source": []
  }
 ],
 "metadata": {
  "kernelspec": {
   "display_name": "Python 3",
   "language": "python",
   "name": "python3"
  },
  "language_info": {
   "codemirror_mode": {
    "name": "ipython",
    "version": 3
   },
   "file_extension": ".py",
   "mimetype": "text/x-python",
   "name": "python",
   "nbconvert_exporter": "python",
   "pygments_lexer": "ipython3",
   "version": "3.8.3"
  }
 },
 "nbformat": 4,
 "nbformat_minor": 4
}
